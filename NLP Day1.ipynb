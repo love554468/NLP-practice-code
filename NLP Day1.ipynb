{
 "cells": [
  {
   "cell_type": "markdown",
   "id": "4725c08e",
   "metadata": {},
   "source": [
    "## NLP DAY 1\n",
    "\n",
    "1.Introduction\n",
    "\n",
    "2.Why NLP is booming  right now\n",
    "\n",
    "3.Regex\n",
    "\n",
    "4.Three Category Of Techniques for NLP\n",
    "\n",
    "5.NLP task"
   ]
  },
  {
   "cell_type": "markdown",
   "id": "ab83d0f1",
   "metadata": {},
   "source": [
    "### 1. Introduction\n",
    "\n",
    "- Đầu tiên là khái niệm\n",
    "- Một vài thông tin tham khảo\n",
    "- Một cuốn sách về NLP\n",
    "- Ứng dụng của NLP\n",
    "- Các framework và tool sài trong NLP\n",
    "- Tài liệu tham khảo, đọc thêm\n",
    "\n",
    "**Khái niệm**\n",
    "\n",
    "NLP hay Natural Language Processing: is a field in computer science and AI that gives machines an ability to understand human language better and to assist in language related tasks\n",
    "\n",
    "**Một vài thông tin**\n",
    "\n",
    "Tạm chia dữ liệu thành 2 loại có cấu trúc và phi cấu trúc\n",
    "- Đối với dữ liệu dạng bảng excel, csv, html, xml, ... là dữ liệu có cấu trúc\n",
    "- Đối với dữ liệu dạng văn bản, dữ liệu thô từ các nguồn là dữ liệu phi cấu trúc\n",
    "\n",
    "Theo hiểu biết của tôi thì đối với dữ liệu có cấu trúc máy tính có thể xử lý tốt hơn phi cấu trúc, thường thì nhắc tới Machine Learning thì sẽ xử lý cho dạng có cấu trúc và deep learning cho loại không có cấu trúc\n",
    "\n",
    "Giờ xu thế của dữ liệu và bigdata phát triển, trào lưu deep learning có thể làm việc tốt trên bigdata nở rộ\n",
    "\n",
    "Các doanh nghiệp hiện nay đang đối mặt với “cơn lũ” dữ liệu về mọi mặt: feedback của khách hàng, thông tin đối thủ cạnh tranh, emails của khách hàng, tweets, thông tin họp báo, hồ sơ pháp lý, các văn bản về sản phẩm và kĩ thuật. Việc khai thác được những dữ liệu này là điểm mấu chốt để các doanh nghiệp có thể triển khai nhanh chóng các quyết định của mình so với đối thủ cạnh tranh.\n",
    "\n",
    "Vấn đề ở đây là gì? Có quá nhiều thông tin để xử lý cùng lúc (hơn 85% dữ liệu trên thế giới không có cấu trúc), và kích thước dữ liệu ngày càng tăng. Đối với nhiều doanh nghiệp, điều này là bất khả thi để điều động nhân sự đọc tất cả mọi thứ được cho là quan trọng (các khách hàng đang nói gì về sản phẩm, những đối thủ cạnh tranh của chúng ta đang làm gì).\n",
    "\n",
    "**Một cuốn sách về NLP**\n",
    "\n",
    "Practical Natural Language Processing: tham khảo nội dung https://www.youtube.com/watch?v=RyXIFJUxMoM&ab_channel=RobertMonarch\n",
    "\n",
    "**Ứng dụng của NLP**\n",
    "\n",
    "chatbot, ứng dụng atuo completion trên email, spam filters, goole search - (to answer your question): using model is Bert, automated news generation\n",
    "\n",
    "**Các framework và tool sài trong NLP**\n",
    "\n",
    "python, spacy, gensim, nltk, scikit-learn, pytorch, hugging-face\n",
    "\n",
    "**Tài liệu tham khảo, đọc thêm**\n",
    "\n",
    "https://viblo.asia/p/xu-ly-ngon-ngu-tu-nhien-phan-1-OeVKB8eQlkW\n",
    "\n",
    "https://ongxuanhong.wordpress.com/2015/08/13/xu-ly-ngon-ngu-tu-nhien-la-gi/"
   ]
  },
  {
   "cell_type": "markdown",
   "id": "ecdbcafe",
   "metadata": {},
   "source": [
    "### 2.Why NLP is booming  right now\n",
    "\n",
    "NLP đã có lịch sử phát triển hơn 50 năm trong lĩnh vực nghiên cứu học thuật, tuy nhiên nó khởi động và bùng nổ trong doanh nghiệp 5-10 năm trở lại đây. Vậy tại sao nó lại hot như vậy?\n",
    "\n",
    "Sau đây là 5 nguyên do:\n",
    "\n",
    "- Freely available Pretrained models : Những mô hình pretrain miễn phí\n",
    "- Opensource Ecosystem : Những hệ thống mã nguồn mở\n",
    "- Cheap Hardware, Cloud Resources: Giá thành phần cứng và lưu trữ đám mây rẻ\n",
    "- Learning Resources: Nguồn học về NLP được public chia sẻ\n",
    "- Huge invesstment by BigTech: Khoản đầu tư lớn từ các Bigtech"
   ]
  },
  {
   "cell_type": "markdown",
   "id": "01e1d71a",
   "metadata": {},
   "source": [
    "### 3.Regex\n",
    "\n",
    "NLP problems thường có hai hướng tiếp cận là heuristics/rule based hoặc ML. Regex là một hướng tiếp cận rule based mạnh, ta có thể trích thông tin pattern (một mẫu, mẩu văn bản, mẩu tin) từ một chuỗi thông tin cho một task NLP định trước. Vd: A customer service chatbot, Information extration (trích thông tin khách hàng với chatbot*, trích xuất thông tin trong văn bản \\**)\n",
    "\n",
    "(*) :1 task nhỏ trong xây chatbot sử dụng regex để bắt các thông tin như email, số điện thoại, orderID\n",
    "\n",
    "(**) : Thay vì dùng beautiful soup thì dùng tạm built in class regex re của python để get thông tin mình cần\n",
    "\n",
    "Theo cách hiểu nôm na của tôi thì regex là cách mà ta bắt một đoạn kí tự từ một câu hoặc 1 chuỗi các kí tự\n",
    "\n",
    "Regex là một chủ đề khó, lời khuyên của tôi dành cho bạn khi tiếp cận sử dụng tool này: tất cả những gì bạn cần làm là phân tích tuần tự, chầm chậm và không nên nóng vội, phân tích hết các khả năng\n",
    "\n",
    "Đối với tác giả bài viết này: tôi đã được học về khái niệm regex từ những năm 2 đại học, và đã học củng cố tầm 1-4 lần nữa, nên trình bày sẽ bỏ qua khái niệm mà đi vào cách sử dụng sao cho hiệu quả thôi.\n",
    "\n",
    "Các bước cần làm:\n",
    "1. Sử dụng trang regex101.com\n",
    "2. Điền đoạn regex vào python code\n",
    "\n",
    "Tôi sẽ đặt link code ở đây hoặc tí nữa sẽ viết ở đây"
   ]
  },
  {
   "cell_type": "markdown",
   "id": "77722db1",
   "metadata": {},
   "source": [
    "### 4.Three Category Of Techniques for NLP\n",
    "\n",
    "3 công nghệ chủ đạo để giải quyết các task trong bài toán NLP là python, machine learning, deep learning\n",
    "\n",
    "Một số khái niệm: pipline, Vectorizer, sentence embeding"
   ]
  },
  {
   "cell_type": "markdown",
   "id": "da7fd90f",
   "metadata": {},
   "source": [
    "### 5.NLP task\n",
    "\n",
    "Thảo luận về 10 loại nhiệm vụ khác nhau trong NLP:\n",
    "<p>NLP tasks</p>\n",
    "<p>Text classification</p>\n",
    "<p>Text similarity</p>\n",
    "<p>Information Extraction</p>\n",
    "<p>Information Retrieval: truy xuất</p>\n",
    "<p>Chat bots</p>\n",
    "<p>Machine Translation</p>\n",
    "<p>Language Modeling</p>\n",
    "<p>Text Summarization</p>\n",
    "\n",
    "Đọc thêm: https://www.youtube.com/watch?v=In7jB8TUGPA&list=PLeo1K3hjS3uuvuAXhYjV2lMEShq2UYSwX&index=5&ab_channel=codebasics"
   ]
  },
  {
   "cell_type": "markdown",
   "id": "591c52cc",
   "metadata": {},
   "source": [
    "### 6.Câu hỏi thêm\n",
    "\n",
    "Một số khái niệm: pipline, Vectorizer, sentence embeding\n",
    "\n",
    "Cách viết table of contents nhanh\n"
   ]
  },
  {
   "cell_type": "code",
   "execution_count": 3,
   "id": "668481de",
   "metadata": {},
   "outputs": [],
   "source": [
    "# for i in \"\"\"NLP tasks\n",
    "# Text classification\n",
    "# Text similarity\n",
    "# Information Extraction\n",
    "# Information Retrieval: truy xuất\n",
    "# Chat bots\n",
    "# Machine Translation\n",
    "# Language Modeling\n",
    "# Text Summarization\"\"\".split(\"\\n\"):\n",
    "#     print(f\"<p>{i}</p>\")"
   ]
  },
  {
   "cell_type": "code",
   "execution_count": null,
   "id": "8e4bb354",
   "metadata": {},
   "outputs": [],
   "source": []
  }
 ],
 "metadata": {
  "kernelspec": {
   "display_name": "Python 3",
   "language": "python",
   "name": "python3"
  },
  "language_info": {
   "codemirror_mode": {
    "name": "ipython",
    "version": 3
   },
   "file_extension": ".py",
   "mimetype": "text/x-python",
   "name": "python",
   "nbconvert_exporter": "python",
   "pygments_lexer": "ipython3",
   "version": "3.8.11"
  }
 },
 "nbformat": 4,
 "nbformat_minor": 5
}
