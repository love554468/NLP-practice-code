{
 "cells": [
  {
   "cell_type": "markdown",
   "id": "fcb78482",
   "metadata": {},
   "source": [
    "## REGEX - BỘ MÔN THỂ THAO NHIỀU NÃO THÚ VỊ\n",
    "\n",
    "Link tham cho bài viết hiện tại khảo:\n",
    "\n",
    "https://github.com/love554468/python-basic/tree/main/python_basic/regex\n",
    "https://www.youtube.com/watchv=lK9gx4q_vfI&list=PLeo1K3hjS3uuvuAXhYjV2lMEShq2UYSwX&index=3&ab_channel=codebasics\n",
    "\n",
    "https://github.com/codebasics/nlptutorials/blob/main/1_regex/regex_for_information_extraction.ipynb\n",
    "\n",
    "https://regex101.com/"
   ]
  },
  {
   "cell_type": "markdown",
   "id": "88892efa",
   "metadata": {},
   "source": [
    "### Regex with python\n",
    "\n",
    "re module offers a set of functions that allows \n",
    "us to search a string for a match:\n",
    "\n",
    "function -> description\n",
    "findall - return a list containing all matches\n",
    "search return a Match object if there is a\n",
    "match anywhere in the string\n",
    "split - return a list where the string has been\n",
    "split at eatch match\n",
    "sub - replaces one or many matches with a string\n",
    "\n",
    "trong thằng search còn 3 phương thức nữa, string , span, group\n",
    "\n",
    "sẽ hay dùng nhất ở re là sub \n",
    "\n",
    "Link tham khảo: https://www.w3schools.com/python/python_regex.asp\n",
    "\n",
    "Một vài tổng kết Mình đã đọc ở viblo về regex: https://github.com/love554468/python-basic/blob/main/python_basic/regex/regex_viblo.txt"
   ]
  },
  {
   "cell_type": "markdown",
   "id": "b7cfb197",
   "metadata": {},
   "source": [
    "#### Xoá số trong chuỗi"
   ]
  },
  {
   "cell_type": "code",
   "execution_count": 2,
   "id": "c7721ee1",
   "metadata": {},
   "outputs": [
    {
     "name": "stdout",
     "output_type": "stream",
     "text": [
      "Sample  String  -In \n"
     ]
    }
   ],
   "source": [
    "import re\n",
    "\n",
    "str = \"Sample 11 String 42 -In 2020\"\n",
    "\n",
    "pattern  = '[0-9]'\n",
    "#match all digits in the strings and replace them by\n",
    "#  empty string\n",
    "mod_string = re.sub(pattern, '', str)\n",
    "\n",
    "print(mod_string)"
   ]
  },
  {
   "cell_type": "markdown",
   "id": "46809061",
   "metadata": {},
   "source": [
    "#### Tìm pattern trong chuỗi"
   ]
  },
  {
   "cell_type": "code",
   "execution_count": 6,
   "id": "3446853d",
   "metadata": {},
   "outputs": [
    {
     "name": "stdout",
     "output_type": "stream",
     "text": [
      "<re.Match object; span=(0, 48), match='the afas a rain in Spain asd a the rain in Spain'>\n",
      "['the afas a rain in Spain asd a the rain in Spain']\n"
     ]
    }
   ],
   "source": [
    "str = \"the afas a rain in Spain asd a the rain in Spain\"\n",
    "\n",
    "x = re.search(\"^the.*Spain$\",str)\n",
    "y = re.findall(\"^the.*Spain$\",str)\n",
    "print(f\"{x}\\n{y}\")"
   ]
  },
  {
   "cell_type": "markdown",
   "id": "717839ba",
   "metadata": {},
   "source": [
    "Mai chiến tiếp\n",
    "\n",
    "https://www.youtube.com/watch?v=lK9gx4q_vfI&list=PLeo1K3hjS3uuvuAXhYjV2lMEShq2UYSwX&index=3&ab_channel=codebasics\n",
    "https://regex101.com/\n",
    "https://github.com/codebasics/nlp-tutorials/blob/main/1_regex/regex_for_information_extraction.ipynb"
   ]
  },
  {
   "cell_type": "code",
   "execution_count": null,
   "id": "18ff3955",
   "metadata": {},
   "outputs": [],
   "source": []
  }
 ],
 "metadata": {
  "kernelspec": {
   "display_name": "Python 3",
   "language": "python",
   "name": "python3"
  },
  "language_info": {
   "codemirror_mode": {
    "name": "ipython",
    "version": 3
   },
   "file_extension": ".py",
   "mimetype": "text/x-python",
   "name": "python",
   "nbconvert_exporter": "python",
   "pygments_lexer": "ipython3",
   "version": "3.8.11"
  }
 },
 "nbformat": 4,
 "nbformat_minor": 5
}
