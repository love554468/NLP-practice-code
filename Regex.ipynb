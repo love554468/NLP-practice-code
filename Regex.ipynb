{
 "cells": [
  {
   "cell_type": "markdown",
   "id": "b7cfb197",
   "metadata": {},
   "source": [
    "#### Xoá số trong chuỗi"
   ]
  },
  {
   "cell_type": "code",
   "execution_count": 3,
   "id": "c7721ee1",
   "metadata": {},
   "outputs": [
    {
     "name": "stdout",
     "output_type": "stream",
     "text": [
      "Sample  String  -In \n"
     ]
    }
   ],
   "source": [
    "import re\n",
    "\n",
    "str = \"Sample 11 String 42 -In 2020\"\n",
    "\n",
    "pattern  = '[0-9]'\n",
    "#match all digits in the strings and replace them by\n",
    "#  empty string\n",
    "mod_string = re.sub(pattern, '', str)\n",
    "\n",
    "print(mod_string)"
   ]
  },
  {
   "cell_type": "markdown",
   "id": "46809061",
   "metadata": {},
   "source": [
    "#### Tìm pattern trong chuỗi"
   ]
  },
  {
   "cell_type": "code",
   "execution_count": 4,
   "id": "3446853d",
   "metadata": {},
   "outputs": [
    {
     "name": "stdout",
     "output_type": "stream",
     "text": [
      "<re.Match object; span=(0, 48), match='the afas a rain in Spain asd a the rain in Spain'>\n",
      "['the afas a rain in Spain asd a the rain in Spain']\n"
     ]
    }
   ],
   "source": [
    "str = \"the afas a rain in Spain asd a the rain in Spain\"\n",
    "\n",
    "x = re.search(\"^the.*Spain$\",str)\n",
    "y = re.findall(\"^the.*Spain$\",str)\n",
    "print(f\"{x}\\n{y}\")"
   ]
  },
  {
   "cell_type": "markdown",
   "id": "4a68f11f",
   "metadata": {},
   "source": [
    "### NLP with Regular Expressions\n",
    "\n",
    "1. Regex in customer support\n",
    "    - Retrieve order number\n",
    "    - Retrive email id and phone\n",
    "2. Regex for information Extraction\n",
    "3. Học tham khảo và củng cố\n",
    "4. Bài tập luyện tập thêm và lời giải"
   ]
  },
  {
   "cell_type": "markdown",
   "id": "e1450d8b",
   "metadata": {},
   "source": [
    "### (1) Regex in customer support\n",
    "#### Retrieve order number"
   ]
  },
  {
   "cell_type": "code",
   "execution_count": 5,
   "id": "ad673db7",
   "metadata": {},
   "outputs": [
    {
     "data": {
      "text/plain": [
       "['4129978727']"
      ]
     },
     "execution_count": 5,
     "metadata": {},
     "output_type": "execute_result"
    }
   ],
   "source": [
    "import re\n",
    "\n",
    "chat1 = \"binhnd: Hello, I am having an issue with my order # 4129978727\"\n",
    "\n",
    "pattern = 'order[^\\d]*(\\d*)'\n",
    "matches = re.findall(pattern, chat1)\n",
    "matches"
   ]
  },
  {
   "cell_type": "code",
   "execution_count": 6,
   "id": "dc0f0275",
   "metadata": {},
   "outputs": [
    {
     "data": {
      "text/plain": [
       "['412889912']"
      ]
     },
     "execution_count": 6,
     "metadata": {},
     "output_type": "execute_result"
    }
   ],
   "source": [
    "chat2='binhnd: I have a problem with my order number 412889912'\n",
    "pattern = 'order[^\\d]*(\\d*)'\n",
    "matches = re.findall(pattern, chat2)\n",
    "matches"
   ]
  },
  {
   "cell_type": "code",
   "execution_count": 7,
   "id": "58cdba16",
   "metadata": {},
   "outputs": [
    {
     "data": {
      "text/plain": [
       "['412889912']"
      ]
     },
     "execution_count": 7,
     "metadata": {},
     "output_type": "execute_result"
    }
   ],
   "source": [
    "chat3='binhnd: My order 412889912 is having an issue, I was charged 300$ when online it says 280$'\n",
    "pattern = 'order[^\\d]*(\\d*)'\n",
    "matches = re.findall(pattern, chat3)\n",
    "matches"
   ]
  },
  {
   "cell_type": "code",
   "execution_count": 8,
   "id": "13e728bf",
   "metadata": {},
   "outputs": [],
   "source": [
    "def get_matches(text, pattern):\n",
    "    matches = re.findall(pattern, text)\n",
    "    if matches:\n",
    "        return matches"
   ]
  },
  {
   "cell_type": "code",
   "execution_count": 9,
   "id": "d0be3bb8",
   "metadata": {},
   "outputs": [
    {
     "data": {
      "text/plain": [
       "['4129978727']"
      ]
     },
     "execution_count": 9,
     "metadata": {},
     "output_type": "execute_result"
    }
   ],
   "source": [
    "pattern = 'order[^\\d]*(\\d*)'\n",
    "get_matches(chat1, pattern)"
   ]
  },
  {
   "cell_type": "code",
   "execution_count": 10,
   "id": "a9b12802",
   "metadata": {},
   "outputs": [
    {
     "data": {
      "text/plain": [
       "['binhnd: you ask lot of questions 😠  1235678912, abc@xyz.com',\n",
       " 'binhnd: here it is: (123)-567-8912, abc@xyz.com',\n",
       " 'binhnd: yes, phone: 1235678912 email: abc@xyz.com']"
      ]
     },
     "execution_count": 10,
     "metadata": {},
     "output_type": "execute_result"
    }
   ],
   "source": [
    "chat1 = 'codebasics: you ask lot of questions 😠  1235678912, abc@xyz.com'\n",
    "chat2 = 'codebasics: here it is: (123)-567-8912, abc@xyz.com'\n",
    "chat3 = 'codebasics: yes, phone: 1235678912 email: abc@xyz.com'\n",
    "\n",
    "def conv_text(arr):\n",
    "    l = []\n",
    "    for i in arr:\n",
    "        l.append(i.replace(\"codebasics\", \"binhnd\"))\n",
    "    return l\n",
    "\n",
    "conv_text([chat1, chat2, chat3])"
   ]
  },
  {
   "cell_type": "code",
   "execution_count": 11,
   "id": "4802b5af",
   "metadata": {},
   "outputs": [],
   "source": [
    "l = conv_text([chat1, chat2, chat3])"
   ]
  },
  {
   "cell_type": "markdown",
   "id": "fbf2af8e",
   "metadata": {},
   "source": [
    "#### Retrieve email id and phone"
   ]
  },
  {
   "cell_type": "markdown",
   "id": "7bcc99a8",
   "metadata": {},
   "source": [
    "-----Email id-----"
   ]
  },
  {
   "cell_type": "code",
   "execution_count": 12,
   "id": "f81beaec",
   "metadata": {},
   "outputs": [
    {
     "name": "stdout",
     "output_type": "stream",
     "text": [
      "['abc@xyz.com']\n",
      "['abc@xyz.com']\n",
      "['abc@xyz.com']\n"
     ]
    }
   ],
   "source": [
    "for i in l:\n",
    "    print(get_matches(i,'[a-zA-Z0-9_]*@[a-z]*\\.[a-zA-Z0-9]*'))\n",
    "    "
   ]
  },
  {
   "cell_type": "markdown",
   "id": "1330f2aa",
   "metadata": {},
   "source": [
    "-----Phone number-----"
   ]
  },
  {
   "cell_type": "code",
   "execution_count": 13,
   "id": "442d3257",
   "metadata": {},
   "outputs": [
    {
     "name": "stdout",
     "output_type": "stream",
     "text": [
      "[('1235678912', '')]\n",
      "[('', '(123)-567-8912')]\n",
      "[('1235678912', '')]\n"
     ]
    }
   ],
   "source": [
    "for i in l:\n",
    "    print(get_matches(i,'(\\d{10})|(\\(\\d{3}\\)-\\d{3}-\\d{4})'))"
   ]
  },
  {
   "cell_type": "markdown",
   "id": "e525b912",
   "metadata": {},
   "source": [
    "### (2) Regex for Information Extraction"
   ]
  },
  {
   "cell_type": "code",
   "execution_count": 14,
   "id": "2ab6746c",
   "metadata": {},
   "outputs": [],
   "source": [
    "text='''\n",
    "Born\tElon Reeve Musk\n",
    "June 28, 1971 (age 50)\n",
    "Pretoria, Transvaal, South Africa\n",
    "Citizenship\t\n",
    "South Africa (1971–present)\n",
    "Canada (1971–present)\n",
    "United States (2002–present)\n",
    "Education\tUniversity of Pennsylvania (BS, BA)\n",
    "Title\t\n",
    "Founder, CEO and Chief Engineer of SpaceX\n",
    "CEO and product architect of Tesla, Inc.\n",
    "Founder of The Boring Company and X.com (now part of PayPal)\n",
    "Co-founder of Neuralink, OpenAI, and Zip2\n",
    "Spouse(s)\t\n",
    "Justine Wilson\n",
    "​\n",
    "​(m. 2000; div. 2008)​\n",
    "Talulah Riley\n",
    "​\n",
    "​(m. 2010; div. 2012)​\n",
    "​\n",
    "​(m. 2013; div. 2016)\n",
    "'''"
   ]
  },
  {
   "cell_type": "code",
   "execution_count": 15,
   "id": "c6c10361",
   "metadata": {},
   "outputs": [
    {
     "data": {
      "text/plain": [
       "['50']"
      ]
     },
     "execution_count": 15,
     "metadata": {},
     "output_type": "execute_result"
    }
   ],
   "source": [
    "get_matches(text, r'age (\\d+)')"
   ]
  },
  {
   "cell_type": "code",
   "execution_count": 19,
   "id": "bbf5057a",
   "metadata": {},
   "outputs": [
    {
     "data": {
      "text/plain": [
       "['\\tElon Reeve Musk']"
      ]
     },
     "execution_count": 19,
     "metadata": {},
     "output_type": "execute_result"
    }
   ],
   "source": [
    "get_matches(text, r'Born(.*)\\n')"
   ]
  },
  {
   "cell_type": "code",
   "execution_count": 23,
   "id": "ca56c7b0",
   "metadata": {},
   "outputs": [
    {
     "data": {
      "text/plain": [
       "['June 28, 1971 ']"
      ]
     },
     "execution_count": 23,
     "metadata": {},
     "output_type": "execute_result"
    }
   ],
   "source": [
    "get_matches(text, r'Born.*\\n(.*)\\(age')"
   ]
  },
  {
   "cell_type": "code",
   "execution_count": 37,
   "id": "1e5a9959",
   "metadata": {},
   "outputs": [],
   "source": [
    "def extract_personal_information(text):\n",
    "    age = get_matches(text, 'age (\\d+)')\n",
    "    full_name = get_matches(text, 'Born(.*)\\n')\n",
    "    birth_date = get_matches(text, 'Born.*\\n(.*)\\(age')\n",
    "    birth_place = get_matches(text, '\\(age.*\\n(.*)')\n",
    "    return {\n",
    "        'age': (age[0]),\n",
    "        'name': full_name[0].replace(\"\\t\", \"\"),\n",
    "        'birth_date': birth_date[0],\n",
    "        'birth_place': birth_place[0]\n",
    "    }"
   ]
  },
  {
   "cell_type": "code",
   "execution_count": 38,
   "id": "0f4a6076",
   "metadata": {},
   "outputs": [
    {
     "data": {
      "text/plain": [
       "{'age': '50',\n",
       " 'name': 'Elon Reeve Musk',\n",
       " 'birth_date': 'June 28, 1971 ',\n",
       " 'birth_place': 'Pretoria, Transvaal, South Africa'}"
      ]
     },
     "execution_count": 38,
     "metadata": {},
     "output_type": "execute_result"
    }
   ],
   "source": [
    "extract_personal_information(text)"
   ]
  },
  {
   "cell_type": "code",
   "execution_count": 39,
   "id": "5c8d23ad",
   "metadata": {},
   "outputs": [],
   "source": [
    "text = '''\n",
    "Born\tMukesh Dhirubhai Ambani\n",
    "19 April 1957 (age 64)\n",
    "Aden, Colony of Aden\n",
    "(present-day Yemen)[1][2]\n",
    "Nationality\tIndian\n",
    "Alma mater\t\n",
    "St. Xavier's College, Mumbai\n",
    "Institute of Chemical Technology (B.E.)\n",
    "Stanford University (drop-out)\n",
    "Occupation\tChairman and MD, Reliance Industries\n",
    "Spouse(s)\tNita Ambani ​(m. 1985)​[3]\n",
    "Children\t3\n",
    "Parent(s)\t\n",
    "Dhirubhai Ambani (father)\n",
    "Kokilaben Ambani (mother)\n",
    "Relatives\tAnil Ambani (brother)\n",
    "Tina Ambani (sister-in-law)\n",
    "'''"
   ]
  },
  {
   "cell_type": "code",
   "execution_count": 40,
   "id": "35ebcd47",
   "metadata": {},
   "outputs": [
    {
     "data": {
      "text/plain": [
       "{'age': '64',\n",
       " 'name': 'Mukesh Dhirubhai Ambani',\n",
       " 'birth_date': '19 April 1957 ',\n",
       " 'birth_place': 'Aden, Colony of Aden'}"
      ]
     },
     "execution_count": 40,
     "metadata": {},
     "output_type": "execute_result"
    }
   ],
   "source": [
    "extract_personal_information(text)"
   ]
  },
  {
   "cell_type": "markdown",
   "id": "fcb78482",
   "metadata": {},
   "source": [
    "## REGEX - BỘ MÔN THỂ THAO NHIỀU NÃO THÚ VỊ\n",
    "\n",
    "Link tham cho bài viết hiện tại khảo:\n",
    "\n",
    "https://github.com/love554468/python-basic/tree/main/python_basic/regex\n",
    "https://www.youtube.com/watchv=lK9gx4q_vfI&list=PLeo1K3hjS3uuvuAXhYjV2lMEShq2UYSwX&index=3&ab_channel=codebasics\n",
    "\n",
    "https://github.com/codebasics/nlptutorials/blob/main/1_regex/regex_for_information_extraction.ipynb\n",
    "\n",
    "https://regex101.com/"
   ]
  },
  {
   "cell_type": "markdown",
   "id": "88892efa",
   "metadata": {},
   "source": [
    "### Regex with python\n",
    "\n",
    "re module offers a set of functions that allows \n",
    "us to search a string for a match:\n",
    "\n",
    "function -> description\n",
    "findall - return a list containing all matches\n",
    "search return a Match object if there is a\n",
    "match anywhere in the string\n",
    "split - return a list where the string has been\n",
    "split at eatch match\n",
    "sub - replaces one or many matches with a string\n",
    "\n",
    "trong thằng search còn 3 phương thức nữa, string , span, group\n",
    "\n",
    "sẽ hay dùng nhất ở re là sub \n",
    "\n",
    "Link tham khảo: https://www.w3schools.com/python/python_regex.asp\n",
    "\n",
    "Một vài tổng kết Mình đã đọc ở viblo về regex: https://github.com/love554468/python-basic/blob/main/python_basic/regex/regex_viblo.txt"
   ]
  },
  {
   "cell_type": "markdown",
   "id": "e3269ba9",
   "metadata": {},
   "source": [
    "Luyen tap: https://github.com/codebasics/nlp-tutorials/blob/main/1_regex/regex_nlp_exercise_questions.ipynb"
   ]
  },
  {
   "cell_type": "code",
   "execution_count": null,
   "id": "d3edea97",
   "metadata": {},
   "outputs": [],
   "source": []
  }
 ],
 "metadata": {
  "kernelspec": {
   "display_name": "Python 3",
   "language": "python",
   "name": "python3"
  },
  "language_info": {
   "codemirror_mode": {
    "name": "ipython",
    "version": 3
   },
   "file_extension": ".py",
   "mimetype": "text/x-python",
   "name": "python",
   "nbconvert_exporter": "python",
   "pygments_lexer": "ipython3",
   "version": "3.8.11"
  }
 },
 "nbformat": 4,
 "nbformat_minor": 5
}
